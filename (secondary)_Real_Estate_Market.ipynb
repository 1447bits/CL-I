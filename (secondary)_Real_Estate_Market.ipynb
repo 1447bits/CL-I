{
 "cells": [
  {
   "cell_type": "markdown",
   "metadata": {},
   "source": [
    "# Assignment 10\n",
    " Data Wrangling on Real Estate Market"
   ]
  },
  {
   "cell_type": "code",
   "execution_count": 44,
   "metadata": {},
   "outputs": [
    {
     "name": "stdout",
     "output_type": "stream",
     "text": [
      "Requirement already satisfied: pandas in /home/atharv/Downloads/practicals/ml-dml/ml-dml/.venv/lib/python3.12/site-packages (2.2.3)\n",
      "Requirement already satisfied: numpy in /home/atharv/Downloads/practicals/ml-dml/ml-dml/.venv/lib/python3.12/site-packages (2.1.3)\n",
      "Requirement already satisfied: matplotlib in /home/atharv/Downloads/practicals/ml-dml/ml-dml/.venv/lib/python3.12/site-packages (3.9.2)\n",
      "Requirement already satisfied: seaborn in /home/atharv/Downloads/practicals/ml-dml/ml-dml/.venv/lib/python3.12/site-packages (0.13.2)\n",
      "Requirement already satisfied: python-dateutil>=2.8.2 in /home/atharv/Downloads/practicals/ml-dml/ml-dml/.venv/lib/python3.12/site-packages (from pandas) (2.9.0.post0)\n",
      "Requirement already satisfied: pytz>=2020.1 in /home/atharv/Downloads/practicals/ml-dml/ml-dml/.venv/lib/python3.12/site-packages (from pandas) (2024.2)\n",
      "Requirement already satisfied: tzdata>=2022.7 in /home/atharv/Downloads/practicals/ml-dml/ml-dml/.venv/lib/python3.12/site-packages (from pandas) (2024.2)\n",
      "Requirement already satisfied: contourpy>=1.0.1 in /home/atharv/Downloads/practicals/ml-dml/ml-dml/.venv/lib/python3.12/site-packages (from matplotlib) (1.3.0)\n",
      "Requirement already satisfied: cycler>=0.10 in /home/atharv/Downloads/practicals/ml-dml/ml-dml/.venv/lib/python3.12/site-packages (from matplotlib) (0.12.1)\n",
      "Requirement already satisfied: fonttools>=4.22.0 in /home/atharv/Downloads/practicals/ml-dml/ml-dml/.venv/lib/python3.12/site-packages (from matplotlib) (4.54.1)\n",
      "Requirement already satisfied: kiwisolver>=1.3.1 in /home/atharv/Downloads/practicals/ml-dml/ml-dml/.venv/lib/python3.12/site-packages (from matplotlib) (1.4.7)\n",
      "Requirement already satisfied: packaging>=20.0 in /home/atharv/Downloads/practicals/ml-dml/ml-dml/.venv/lib/python3.12/site-packages (from matplotlib) (24.1)\n",
      "Requirement already satisfied: pillow>=8 in /home/atharv/Downloads/practicals/ml-dml/ml-dml/.venv/lib/python3.12/site-packages (from matplotlib) (11.0.0)\n",
      "Requirement already satisfied: pyparsing>=2.3.1 in /home/atharv/Downloads/practicals/ml-dml/ml-dml/.venv/lib/python3.12/site-packages (from matplotlib) (3.2.0)\n",
      "Requirement already satisfied: six>=1.5 in /home/atharv/Downloads/practicals/ml-dml/ml-dml/.venv/lib/python3.12/site-packages (from python-dateutil>=2.8.2->pandas) (1.16.0)\n",
      "\n",
      "\u001b[1m[\u001b[0m\u001b[34;49mnotice\u001b[0m\u001b[1;39;49m]\u001b[0m\u001b[39;49m A new release of pip is available: \u001b[0m\u001b[31;49m24.2\u001b[0m\u001b[39;49m -> \u001b[0m\u001b[32;49m24.3.1\u001b[0m\n",
      "\u001b[1m[\u001b[0m\u001b[34;49mnotice\u001b[0m\u001b[1;39;49m]\u001b[0m\u001b[39;49m To update, run: \u001b[0m\u001b[32;49mpip install --upgrade pip\u001b[0m\n"
     ]
    }
   ],
   "source": [
    "! pip install pandas numpy matplotlib seaborn"
   ]
  },
  {
   "cell_type": "code",
   "execution_count": 45,
   "metadata": {},
   "outputs": [],
   "source": [
    "import pandas as pd\n",
    "import numpy as np\n",
    "import matplotlib.pyplot as plt\n",
    "import seaborn as sns"
   ]
  },
  {
   "cell_type": "code",
   "execution_count": 46,
   "metadata": {},
   "outputs": [],
   "source": [
    "df1=pd.read_csv('Bengaluru_House_Data.csv', encoding='ISO-8859-1')\n",
    "df2=pd.read_json('sales.json')"
   ]
  },
  {
   "cell_type": "code",
   "execution_count": 47,
   "metadata": {},
   "outputs": [
    {
     "data": {
      "text/html": [
       "<div>\n",
       "<style scoped>\n",
       "    .dataframe tbody tr th:only-of-type {\n",
       "        vertical-align: middle;\n",
       "    }\n",
       "\n",
       "    .dataframe tbody tr th {\n",
       "        vertical-align: top;\n",
       "    }\n",
       "\n",
       "    .dataframe thead th {\n",
       "        text-align: right;\n",
       "    }\n",
       "</style>\n",
       "<table border=\"1\" class=\"dataframe\">\n",
       "  <thead>\n",
       "    <tr style=\"text-align: right;\">\n",
       "      <th></th>\n",
       "      <th>area_type</th>\n",
       "      <th>availability</th>\n",
       "      <th>location</th>\n",
       "      <th>size</th>\n",
       "      <th>society</th>\n",
       "      <th>total_sqft</th>\n",
       "      <th>bath</th>\n",
       "      <th>balcony</th>\n",
       "      <th>price</th>\n",
       "    </tr>\n",
       "  </thead>\n",
       "  <tbody>\n",
       "    <tr>\n",
       "      <th>0</th>\n",
       "      <td>Super built-up  Area</td>\n",
       "      <td>19-Dec</td>\n",
       "      <td>Electronic City Phase II</td>\n",
       "      <td>2 BHK</td>\n",
       "      <td>Coomee</td>\n",
       "      <td>1056</td>\n",
       "      <td>2.0</td>\n",
       "      <td>1.0</td>\n",
       "      <td>39.07</td>\n",
       "    </tr>\n",
       "    <tr>\n",
       "      <th>1</th>\n",
       "      <td>Plot  Area</td>\n",
       "      <td>Ready To Move</td>\n",
       "      <td>Chikka Tirupathi</td>\n",
       "      <td>4 Bedroom</td>\n",
       "      <td>Theanmp</td>\n",
       "      <td>2600</td>\n",
       "      <td>5.0</td>\n",
       "      <td>3.0</td>\n",
       "      <td>120.00</td>\n",
       "    </tr>\n",
       "    <tr>\n",
       "      <th>2</th>\n",
       "      <td>Built-up  Area</td>\n",
       "      <td>Ready To Move</td>\n",
       "      <td>Uttarahalli</td>\n",
       "      <td>3 BHK</td>\n",
       "      <td>NaN</td>\n",
       "      <td>1440</td>\n",
       "      <td>2.0</td>\n",
       "      <td>3.0</td>\n",
       "      <td>62.00</td>\n",
       "    </tr>\n",
       "    <tr>\n",
       "      <th>3</th>\n",
       "      <td>Super built-up  Area</td>\n",
       "      <td>Ready To Move</td>\n",
       "      <td>Lingadheeranahalli</td>\n",
       "      <td>3 BHK</td>\n",
       "      <td>Soiewre</td>\n",
       "      <td>1521</td>\n",
       "      <td>3.0</td>\n",
       "      <td>1.0</td>\n",
       "      <td>95.00</td>\n",
       "    </tr>\n",
       "    <tr>\n",
       "      <th>4</th>\n",
       "      <td>Super built-up  Area</td>\n",
       "      <td>Ready To Move</td>\n",
       "      <td>Kothanur</td>\n",
       "      <td>2 BHK</td>\n",
       "      <td>NaN</td>\n",
       "      <td>1200</td>\n",
       "      <td>2.0</td>\n",
       "      <td>1.0</td>\n",
       "      <td>51.00</td>\n",
       "    </tr>\n",
       "  </tbody>\n",
       "</table>\n",
       "</div>"
      ],
      "text/plain": [
       "              area_type   availability                  location       size  \\\n",
       "0  Super built-up  Area         19-Dec  Electronic City Phase II      2 BHK   \n",
       "1            Plot  Area  Ready To Move          Chikka Tirupathi  4 Bedroom   \n",
       "2        Built-up  Area  Ready To Move               Uttarahalli      3 BHK   \n",
       "3  Super built-up  Area  Ready To Move        Lingadheeranahalli      3 BHK   \n",
       "4  Super built-up  Area  Ready To Move                  Kothanur      2 BHK   \n",
       "\n",
       "   society total_sqft  bath  balcony   price  \n",
       "0  Coomee        1056   2.0      1.0   39.07  \n",
       "1  Theanmp       2600   5.0      3.0  120.00  \n",
       "2      NaN       1440   2.0      3.0   62.00  \n",
       "3  Soiewre       1521   3.0      1.0   95.00  \n",
       "4      NaN       1200   2.0      1.0   51.00  "
      ]
     },
     "execution_count": 47,
     "metadata": {},
     "output_type": "execute_result"
    }
   ],
   "source": [
    "df1.head()"
   ]
  },
  {
   "cell_type": "code",
   "execution_count": 48,
   "metadata": {},
   "outputs": [
    {
     "data": {
      "text/html": [
       "<div>\n",
       "<style scoped>\n",
       "    .dataframe tbody tr th:only-of-type {\n",
       "        vertical-align: middle;\n",
       "    }\n",
       "\n",
       "    .dataframe tbody tr th {\n",
       "        vertical-align: top;\n",
       "    }\n",
       "\n",
       "    .dataframe thead th {\n",
       "        text-align: right;\n",
       "    }\n",
       "</style>\n",
       "<table border=\"1\" class=\"dataframe\">\n",
       "  <thead>\n",
       "    <tr style=\"text-align: right;\">\n",
       "      <th></th>\n",
       "      <th>12 Strong</th>\n",
       "      <th>A Fantastic Woman (Una Mujer Fantástica)</th>\n",
       "      <th>All The Money In The World</th>\n",
       "      <th>Bilal: A New Breed Of Hero</th>\n",
       "      <th>Call Me By Your Name</th>\n",
       "      <th>Darkest Hour</th>\n",
       "      <th>Den Of Thieves</th>\n",
       "      <th>Ferdinand</th>\n",
       "      <th>Fifty Shades Freed</th>\n",
       "      <th>Film Stars Don'T Die In Liverpool</th>\n",
       "      <th>...</th>\n",
       "      <th>The 15:17 To Paris</th>\n",
       "      <th>The Commuter</th>\n",
       "      <th>The Disaster Artist</th>\n",
       "      <th>The Greatest Showman</th>\n",
       "      <th>The Insult (L'Insulte)</th>\n",
       "      <th>The Post</th>\n",
       "      <th>The Shape Of Water</th>\n",
       "      <th>Three Billboards Outside Ebbing, Missouri</th>\n",
       "      <th>Till The End Of The World</th>\n",
       "      <th>Winchester</th>\n",
       "    </tr>\n",
       "  </thead>\n",
       "  <tbody>\n",
       "    <tr>\n",
       "      <th>Genre</th>\n",
       "      <td>Action</td>\n",
       "      <td>NaN</td>\n",
       "      <td>NaN</td>\n",
       "      <td>NaN</td>\n",
       "      <td>NaN</td>\n",
       "      <td>NaN</td>\n",
       "      <td>Action</td>\n",
       "      <td>NaN</td>\n",
       "      <td>Drama</td>\n",
       "      <td>NaN</td>\n",
       "      <td>...</td>\n",
       "      <td>Drama</td>\n",
       "      <td>NaN</td>\n",
       "      <td>NaN</td>\n",
       "      <td>Biography</td>\n",
       "      <td>NaN</td>\n",
       "      <td>Biography</td>\n",
       "      <td>Adventure</td>\n",
       "      <td>NaN</td>\n",
       "      <td>NaN</td>\n",
       "      <td>Biography</td>\n",
       "    </tr>\n",
       "    <tr>\n",
       "      <th>Gross</th>\n",
       "      <td>$453,173</td>\n",
       "      <td>NaN</td>\n",
       "      <td>NaN</td>\n",
       "      <td>NaN</td>\n",
       "      <td>NaN</td>\n",
       "      <td>NaN</td>\n",
       "      <td>$491,898</td>\n",
       "      <td>NaN</td>\n",
       "      <td>unknown</td>\n",
       "      <td>NaN</td>\n",
       "      <td>...</td>\n",
       "      <td>unknown</td>\n",
       "      <td>NaN</td>\n",
       "      <td>NaN</td>\n",
       "      <td>$627,248</td>\n",
       "      <td>NaN</td>\n",
       "      <td>$463,228</td>\n",
       "      <td>$448,287</td>\n",
       "      <td>NaN</td>\n",
       "      <td>NaN</td>\n",
       "      <td>$696,786</td>\n",
       "    </tr>\n",
       "    <tr>\n",
       "      <th>IMDB Metascore</th>\n",
       "      <td>54</td>\n",
       "      <td>NaN</td>\n",
       "      <td>NaN</td>\n",
       "      <td>NaN</td>\n",
       "      <td>NaN</td>\n",
       "      <td>NaN</td>\n",
       "      <td>49</td>\n",
       "      <td>NaN</td>\n",
       "      <td>34</td>\n",
       "      <td>NaN</td>\n",
       "      <td>...</td>\n",
       "      <td>52</td>\n",
       "      <td>NaN</td>\n",
       "      <td>NaN</td>\n",
       "      <td>48</td>\n",
       "      <td>NaN</td>\n",
       "      <td>83</td>\n",
       "      <td>86</td>\n",
       "      <td>NaN</td>\n",
       "      <td>NaN</td>\n",
       "      <td>28</td>\n",
       "    </tr>\n",
       "    <tr>\n",
       "      <th>Popcorn Score</th>\n",
       "      <td>72</td>\n",
       "      <td>NaN</td>\n",
       "      <td>NaN</td>\n",
       "      <td>NaN</td>\n",
       "      <td>NaN</td>\n",
       "      <td>NaN</td>\n",
       "      <td>69</td>\n",
       "      <td>NaN</td>\n",
       "      <td>unknown</td>\n",
       "      <td>NaN</td>\n",
       "      <td>...</td>\n",
       "      <td>unknown</td>\n",
       "      <td>NaN</td>\n",
       "      <td>NaN</td>\n",
       "      <td>90</td>\n",
       "      <td>NaN</td>\n",
       "      <td>73</td>\n",
       "      <td>78</td>\n",
       "      <td>NaN</td>\n",
       "      <td>NaN</td>\n",
       "      <td>40</td>\n",
       "    </tr>\n",
       "    <tr>\n",
       "      <th>Rating</th>\n",
       "      <td>R</td>\n",
       "      <td>NaN</td>\n",
       "      <td>NaN</td>\n",
       "      <td>NaN</td>\n",
       "      <td>NaN</td>\n",
       "      <td>NaN</td>\n",
       "      <td>R</td>\n",
       "      <td>NaN</td>\n",
       "      <td>unrated</td>\n",
       "      <td>NaN</td>\n",
       "      <td>...</td>\n",
       "      <td>unrated</td>\n",
       "      <td>NaN</td>\n",
       "      <td>NaN</td>\n",
       "      <td>PG</td>\n",
       "      <td>NaN</td>\n",
       "      <td>PG13</td>\n",
       "      <td>R</td>\n",
       "      <td>NaN</td>\n",
       "      <td>NaN</td>\n",
       "      <td>PG13</td>\n",
       "    </tr>\n",
       "  </tbody>\n",
       "</table>\n",
       "<p>5 rows × 38 columns</p>\n",
       "</div>"
      ],
      "text/plain": [
       "               12 Strong A Fantastic Woman (Una Mujer Fantástica)  \\\n",
       "Genre             Action                                      NaN   \n",
       "Gross           $453,173                                      NaN   \n",
       "IMDB Metascore        54                                      NaN   \n",
       "Popcorn Score         72                                      NaN   \n",
       "Rating                 R                                      NaN   \n",
       "\n",
       "               All The Money In The World Bilal: A New Breed Of Hero  \\\n",
       "Genre                                 NaN                        NaN   \n",
       "Gross                                 NaN                        NaN   \n",
       "IMDB Metascore                        NaN                        NaN   \n",
       "Popcorn Score                         NaN                        NaN   \n",
       "Rating                                NaN                        NaN   \n",
       "\n",
       "               Call Me By Your Name Darkest Hour Den Of Thieves Ferdinand  \\\n",
       "Genre                           NaN          NaN         Action       NaN   \n",
       "Gross                           NaN          NaN       $491,898       NaN   \n",
       "IMDB Metascore                  NaN          NaN             49       NaN   \n",
       "Popcorn Score                   NaN          NaN             69       NaN   \n",
       "Rating                          NaN          NaN              R       NaN   \n",
       "\n",
       "               Fifty Shades Freed Film Stars Don'T Die In Liverpool  ...  \\\n",
       "Genre                       Drama                               NaN  ...   \n",
       "Gross                     unknown                               NaN  ...   \n",
       "IMDB Metascore                 34                               NaN  ...   \n",
       "Popcorn Score             unknown                               NaN  ...   \n",
       "Rating                    unrated                               NaN  ...   \n",
       "\n",
       "               The 15:17 To Paris The Commuter The Disaster Artist  \\\n",
       "Genre                       Drama          NaN                 NaN   \n",
       "Gross                     unknown          NaN                 NaN   \n",
       "IMDB Metascore                 52          NaN                 NaN   \n",
       "Popcorn Score             unknown          NaN                 NaN   \n",
       "Rating                    unrated          NaN                 NaN   \n",
       "\n",
       "               The Greatest Showman The Insult (L'Insulte)   The Post  \\\n",
       "Genre                     Biography                    NaN  Biography   \n",
       "Gross                      $627,248                    NaN   $463,228   \n",
       "IMDB Metascore                   48                    NaN         83   \n",
       "Popcorn Score                    90                    NaN         73   \n",
       "Rating                           PG                    NaN       PG13   \n",
       "\n",
       "               The Shape Of Water Three Billboards Outside Ebbing, Missouri  \\\n",
       "Genre                   Adventure                                       NaN   \n",
       "Gross                    $448,287                                       NaN   \n",
       "IMDB Metascore                 86                                       NaN   \n",
       "Popcorn Score                  78                                       NaN   \n",
       "Rating                          R                                       NaN   \n",
       "\n",
       "               Till The End Of The World Winchester  \n",
       "Genre                                NaN  Biography  \n",
       "Gross                                NaN   $696,786  \n",
       "IMDB Metascore                       NaN         28  \n",
       "Popcorn Score                        NaN         40  \n",
       "Rating                               NaN       PG13  \n",
       "\n",
       "[5 rows x 38 columns]"
      ]
     },
     "execution_count": 48,
     "metadata": {},
     "output_type": "execute_result"
    }
   ],
   "source": [
    "df2.head()"
   ]
  },
  {
   "cell_type": "code",
   "execution_count": 49,
   "metadata": {},
   "outputs": [
    {
     "data": {
      "text/plain": [
       "(13320, 9)"
      ]
     },
     "execution_count": 49,
     "metadata": {},
     "output_type": "execute_result"
    }
   ],
   "source": [
    "df1.shape"
   ]
  },
  {
   "cell_type": "code",
   "execution_count": 50,
   "metadata": {},
   "outputs": [
    {
     "data": {
      "text/plain": [
       "(9, 38)"
      ]
     },
     "execution_count": 50,
     "metadata": {},
     "output_type": "execute_result"
    }
   ],
   "source": [
    "df2.shape"
   ]
  },
  {
   "cell_type": "code",
   "execution_count": 51,
   "metadata": {},
   "outputs": [
    {
     "name": "stdout",
     "output_type": "stream",
     "text": [
      "<class 'pandas.core.frame.DataFrame'>\n",
      "RangeIndex: 13320 entries, 0 to 13319\n",
      "Data columns (total 9 columns):\n",
      " #   Column        Non-Null Count  Dtype  \n",
      "---  ------        --------------  -----  \n",
      " 0   area_type     13320 non-null  object \n",
      " 1   availability  13320 non-null  object \n",
      " 2   location      13319 non-null  object \n",
      " 3   size          13304 non-null  object \n",
      " 4   society       7818 non-null   object \n",
      " 5   total_sqft    13320 non-null  object \n",
      " 6   bath          13247 non-null  float64\n",
      " 7   balcony       12711 non-null  float64\n",
      " 8   price         13320 non-null  float64\n",
      "dtypes: float64(3), object(6)\n",
      "memory usage: 936.7+ KB\n"
     ]
    }
   ],
   "source": [
    "df1.info()"
   ]
  },
  {
   "cell_type": "code",
   "execution_count": 52,
   "metadata": {},
   "outputs": [
    {
     "data": {
      "text/plain": [
       "area_type          0\n",
       "availability       0\n",
       "location           1\n",
       "size              16\n",
       "society         5502\n",
       "total_sqft         0\n",
       "bath              73\n",
       "balcony          609\n",
       "price              0\n",
       "dtype: int64"
      ]
     },
     "execution_count": 52,
     "metadata": {},
     "output_type": "execute_result"
    }
   ],
   "source": [
    "#Checks for NA values in columns\n",
    "df1.isna().sum()"
   ]
  },
  {
   "cell_type": "code",
   "execution_count": 53,
   "metadata": {},
   "outputs": [
    {
     "data": {
      "text/html": [
       "<div>\n",
       "<style scoped>\n",
       "    .dataframe tbody tr th:only-of-type {\n",
       "        vertical-align: middle;\n",
       "    }\n",
       "\n",
       "    .dataframe tbody tr th {\n",
       "        vertical-align: top;\n",
       "    }\n",
       "\n",
       "    .dataframe thead th {\n",
       "        text-align: right;\n",
       "    }\n",
       "</style>\n",
       "<table border=\"1\" class=\"dataframe\">\n",
       "  <thead>\n",
       "    <tr style=\"text-align: right;\">\n",
       "      <th></th>\n",
       "      <th>bath</th>\n",
       "      <th>balcony</th>\n",
       "      <th>price</th>\n",
       "    </tr>\n",
       "  </thead>\n",
       "  <tbody>\n",
       "    <tr>\n",
       "      <th>count</th>\n",
       "      <td>13247.000000</td>\n",
       "      <td>12711.000000</td>\n",
       "      <td>13320.000000</td>\n",
       "    </tr>\n",
       "    <tr>\n",
       "      <th>mean</th>\n",
       "      <td>2.692610</td>\n",
       "      <td>1.584376</td>\n",
       "      <td>112.565627</td>\n",
       "    </tr>\n",
       "    <tr>\n",
       "      <th>std</th>\n",
       "      <td>1.341458</td>\n",
       "      <td>0.817263</td>\n",
       "      <td>148.971674</td>\n",
       "    </tr>\n",
       "    <tr>\n",
       "      <th>min</th>\n",
       "      <td>1.000000</td>\n",
       "      <td>0.000000</td>\n",
       "      <td>8.000000</td>\n",
       "    </tr>\n",
       "    <tr>\n",
       "      <th>25%</th>\n",
       "      <td>2.000000</td>\n",
       "      <td>1.000000</td>\n",
       "      <td>50.000000</td>\n",
       "    </tr>\n",
       "    <tr>\n",
       "      <th>50%</th>\n",
       "      <td>2.000000</td>\n",
       "      <td>2.000000</td>\n",
       "      <td>72.000000</td>\n",
       "    </tr>\n",
       "    <tr>\n",
       "      <th>75%</th>\n",
       "      <td>3.000000</td>\n",
       "      <td>2.000000</td>\n",
       "      <td>120.000000</td>\n",
       "    </tr>\n",
       "    <tr>\n",
       "      <th>max</th>\n",
       "      <td>40.000000</td>\n",
       "      <td>3.000000</td>\n",
       "      <td>3600.000000</td>\n",
       "    </tr>\n",
       "  </tbody>\n",
       "</table>\n",
       "</div>"
      ],
      "text/plain": [
       "               bath       balcony         price\n",
       "count  13247.000000  12711.000000  13320.000000\n",
       "mean       2.692610      1.584376    112.565627\n",
       "std        1.341458      0.817263    148.971674\n",
       "min        1.000000      0.000000      8.000000\n",
       "25%        2.000000      1.000000     50.000000\n",
       "50%        2.000000      2.000000     72.000000\n",
       "75%        3.000000      2.000000    120.000000\n",
       "max       40.000000      3.000000   3600.000000"
      ]
     },
     "execution_count": 53,
     "metadata": {},
     "output_type": "execute_result"
    }
   ],
   "source": [
    "#for calculating some statistical data like percentile, mean and std of the numeric\n",
    "df1.describe()"
   ]
  },
  {
   "cell_type": "code",
   "execution_count": 54,
   "metadata": {},
   "outputs": [],
   "source": [
    "#Dropping unnecessary columns\n",
    "# df1 = df1.drop(['ADDRESSLINE1','ADDRESSLINE2','CITY','STATE','TERRITORY'],axis = 1)"
   ]
  },
  {
   "cell_type": "code",
   "execution_count": 55,
   "metadata": {},
   "outputs": [
    {
     "data": {
      "text/plain": [
       "area_type          0\n",
       "availability       0\n",
       "location           1\n",
       "size              16\n",
       "society         5502\n",
       "total_sqft         0\n",
       "bath              73\n",
       "balcony          609\n",
       "price              0\n",
       "dtype: int64"
      ]
     },
     "execution_count": 55,
     "metadata": {},
     "output_type": "execute_result"
    }
   ],
   "source": [
    "df1.isna().sum()"
   ]
  },
  {
   "cell_type": "code",
   "execution_count": 56,
   "metadata": {},
   "outputs": [],
   "source": [
    "#Filling all NA values with mode of the POSTALCODE column\n",
    "# df1 = df1['POSTALCODE'].fillna(df1.POSTALCODE.mode(), inplace=True)"
   ]
  },
  {
   "cell_type": "code",
   "execution_count": 57,
   "metadata": {},
   "outputs": [
    {
     "name": "stdout",
     "output_type": "stream",
     "text": [
      "<class 'pandas.core.frame.DataFrame'>\n",
      "Index: 9 entries, Genre to tomatoscore\n",
      "Data columns (total 38 columns):\n",
      " #   Column                                     Non-Null Count  Dtype \n",
      "---  ------                                     --------------  ----- \n",
      " 0   12 Strong                                  6 non-null      object\n",
      " 1   A Fantastic Woman (Una Mujer Fantástica)   3 non-null      object\n",
      " 2   All The Money In The World                 3 non-null      object\n",
      " 3   Bilal: A New Breed Of Hero                 3 non-null      object\n",
      " 4   Call Me By Your Name                       3 non-null      object\n",
      " 5   Darkest Hour                               3 non-null      object\n",
      " 6   Den Of Thieves                             6 non-null      object\n",
      " 7   Ferdinand                                  3 non-null      object\n",
      " 8   Fifty Shades Freed                         6 non-null      object\n",
      " 9   Film Stars Don'T Die In Liverpool          3 non-null      object\n",
      " 10  Forever My Girl                            3 non-null      object\n",
      " 11  Golden Exits                               6 non-null      object\n",
      " 12  Hostiles                                   6 non-null      object\n",
      " 13  I, Tonya                                   3 non-null      object\n",
      " 14  Insidious: The Last Key                    3 non-null      object\n",
      " 15  Jumanji: Welcome To The Jungle             6 non-null      object\n",
      " 16  Mary And The Witch'S Flower                3 non-null      object\n",
      " 17  Maze Runner: The Death Cure                6 non-null      object\n",
      " 18  Molly'S Game                               3 non-null      object\n",
      " 19  Paddington 2                               6 non-null      object\n",
      " 20  Padmaavat                                  3 non-null      object\n",
      " 21  Permission                                 6 non-null      object\n",
      " 22  Peter Rabbit                               6 non-null      object\n",
      " 23  Phantom Thread                             3 non-null      object\n",
      " 24  Pitch Perfect 3                            3 non-null      object\n",
      " 25  Proud Mary                                 3 non-null      object\n",
      " 26  Sanpo Suru Shinryakusha                    6 non-null      object\n",
      " 27  Star Wars: The Last Jedi                   3 non-null      object\n",
      " 28  The 15:17 To Paris                         6 non-null      object\n",
      " 29  The Commuter                               3 non-null      object\n",
      " 30  The Disaster Artist                        3 non-null      object\n",
      " 31  The Greatest Showman                       6 non-null      object\n",
      " 32  The Insult (L'Insulte)                     3 non-null      object\n",
      " 33  The Post                                   6 non-null      object\n",
      " 34  The Shape Of Water                         6 non-null      object\n",
      " 35  Three Billboards Outside Ebbing, Missouri  3 non-null      object\n",
      " 36  Till The End Of The World                  2 non-null      object\n",
      " 37  Winchester                                 6 non-null      object\n",
      "dtypes: object(38)\n",
      "memory usage: 2.7+ KB\n"
     ]
    }
   ],
   "source": [
    "df2.info()"
   ]
  },
  {
   "cell_type": "code",
   "execution_count": 58,
   "metadata": {},
   "outputs": [
    {
     "data": {
      "text/plain": [
       "12 Strong                                    3\n",
       "A Fantastic Woman (Una Mujer Fantástica)     6\n",
       "All The Money In The World                   6\n",
       "Bilal: A New Breed Of Hero                   6\n",
       "Call Me By Your Name                         6\n",
       "Darkest Hour                                 6\n",
       "Den Of Thieves                               3\n",
       "Ferdinand                                    6\n",
       "Fifty Shades Freed                           3\n",
       "Film Stars Don'T Die In Liverpool            6\n",
       "Forever My Girl                              6\n",
       "Golden Exits                                 3\n",
       "Hostiles                                     3\n",
       "I, Tonya                                     6\n",
       "Insidious: The Last Key                      6\n",
       "Jumanji: Welcome To The Jungle               3\n",
       "Mary And The Witch'S Flower                  6\n",
       "Maze Runner: The Death Cure                  3\n",
       "Molly'S Game                                 6\n",
       "Paddington 2                                 3\n",
       "Padmaavat                                    6\n",
       "Permission                                   3\n",
       "Peter Rabbit                                 3\n",
       "Phantom Thread                               6\n",
       "Pitch Perfect 3                              6\n",
       "Proud Mary                                   6\n",
       "Sanpo Suru Shinryakusha                      3\n",
       "Star Wars: The Last Jedi                     6\n",
       "The 15:17 To Paris                           3\n",
       "The Commuter                                 6\n",
       "The Disaster Artist                          6\n",
       "The Greatest Showman                         3\n",
       "The Insult (L'Insulte)                       6\n",
       "The Post                                     3\n",
       "The Shape Of Water                           3\n",
       "Three Billboards Outside Ebbing, Missouri    6\n",
       "Till The End Of The World                    7\n",
       "Winchester                                   3\n",
       "dtype: int64"
      ]
     },
     "execution_count": 58,
     "metadata": {},
     "output_type": "execute_result"
    }
   ],
   "source": [
    "df2.isna().sum()"
   ]
  },
  {
   "cell_type": "code",
   "execution_count": 59,
   "metadata": {},
   "outputs": [],
   "source": [
    "# df2 = df2.drop(['ADDRESSLINE1','ADDRESSLINE2','CITY','STATE','TERRITORY'],axis = 1)"
   ]
  },
  {
   "cell_type": "code",
   "execution_count": 60,
   "metadata": {},
   "outputs": [
    {
     "data": {
      "text/html": [
       "<div>\n",
       "<style scoped>\n",
       "    .dataframe tbody tr th:only-of-type {\n",
       "        vertical-align: middle;\n",
       "    }\n",
       "\n",
       "    .dataframe tbody tr th {\n",
       "        vertical-align: top;\n",
       "    }\n",
       "\n",
       "    .dataframe thead th {\n",
       "        text-align: right;\n",
       "    }\n",
       "</style>\n",
       "<table border=\"1\" class=\"dataframe\">\n",
       "  <thead>\n",
       "    <tr style=\"text-align: right;\">\n",
       "      <th></th>\n",
       "      <th>12 Strong</th>\n",
       "      <th>A Fantastic Woman (Una Mujer Fantástica)</th>\n",
       "      <th>All The Money In The World</th>\n",
       "      <th>Bilal: A New Breed Of Hero</th>\n",
       "      <th>Call Me By Your Name</th>\n",
       "      <th>Darkest Hour</th>\n",
       "      <th>Den Of Thieves</th>\n",
       "      <th>Ferdinand</th>\n",
       "      <th>Fifty Shades Freed</th>\n",
       "      <th>Film Stars Don'T Die In Liverpool</th>\n",
       "      <th>...</th>\n",
       "      <th>The 15:17 To Paris</th>\n",
       "      <th>The Commuter</th>\n",
       "      <th>The Disaster Artist</th>\n",
       "      <th>The Greatest Showman</th>\n",
       "      <th>The Insult (L'Insulte)</th>\n",
       "      <th>The Post</th>\n",
       "      <th>The Shape Of Water</th>\n",
       "      <th>Three Billboards Outside Ebbing, Missouri</th>\n",
       "      <th>Till The End Of The World</th>\n",
       "      <th>Winchester</th>\n",
       "    </tr>\n",
       "  </thead>\n",
       "  <tbody>\n",
       "    <tr>\n",
       "      <th>count</th>\n",
       "      <td>6</td>\n",
       "      <td>3</td>\n",
       "      <td>3</td>\n",
       "      <td>3</td>\n",
       "      <td>3</td>\n",
       "      <td>3</td>\n",
       "      <td>6</td>\n",
       "      <td>3</td>\n",
       "      <td>6</td>\n",
       "      <td>3</td>\n",
       "      <td>...</td>\n",
       "      <td>6</td>\n",
       "      <td>3</td>\n",
       "      <td>3</td>\n",
       "      <td>6</td>\n",
       "      <td>3</td>\n",
       "      <td>6</td>\n",
       "      <td>6</td>\n",
       "      <td>3</td>\n",
       "      <td>2</td>\n",
       "      <td>6</td>\n",
       "    </tr>\n",
       "    <tr>\n",
       "      <th>unique</th>\n",
       "      <td>6</td>\n",
       "      <td>3</td>\n",
       "      <td>3</td>\n",
       "      <td>3</td>\n",
       "      <td>3</td>\n",
       "      <td>3</td>\n",
       "      <td>6</td>\n",
       "      <td>3</td>\n",
       "      <td>5</td>\n",
       "      <td>3</td>\n",
       "      <td>...</td>\n",
       "      <td>5</td>\n",
       "      <td>3</td>\n",
       "      <td>3</td>\n",
       "      <td>6</td>\n",
       "      <td>3</td>\n",
       "      <td>6</td>\n",
       "      <td>6</td>\n",
       "      <td>3</td>\n",
       "      <td>2</td>\n",
       "      <td>6</td>\n",
       "    </tr>\n",
       "    <tr>\n",
       "      <th>top</th>\n",
       "      <td>Action</td>\n",
       "      <td>83</td>\n",
       "      <td>71</td>\n",
       "      <td>91</td>\n",
       "      <td>87</td>\n",
       "      <td>84</td>\n",
       "      <td>Action</td>\n",
       "      <td>49</td>\n",
       "      <td>unknown</td>\n",
       "      <td>69</td>\n",
       "      <td>...</td>\n",
       "      <td>unknown</td>\n",
       "      <td>48</td>\n",
       "      <td>89</td>\n",
       "      <td>Biography</td>\n",
       "      <td>86</td>\n",
       "      <td>Biography</td>\n",
       "      <td>Adventure</td>\n",
       "      <td>87</td>\n",
       "      <td>-1</td>\n",
       "      <td>Biography</td>\n",
       "    </tr>\n",
       "    <tr>\n",
       "      <th>freq</th>\n",
       "      <td>1</td>\n",
       "      <td>1</td>\n",
       "      <td>1</td>\n",
       "      <td>1</td>\n",
       "      <td>1</td>\n",
       "      <td>1</td>\n",
       "      <td>1</td>\n",
       "      <td>1</td>\n",
       "      <td>2</td>\n",
       "      <td>1</td>\n",
       "      <td>...</td>\n",
       "      <td>2</td>\n",
       "      <td>1</td>\n",
       "      <td>1</td>\n",
       "      <td>1</td>\n",
       "      <td>1</td>\n",
       "      <td>1</td>\n",
       "      <td>1</td>\n",
       "      <td>1</td>\n",
       "      <td>1</td>\n",
       "      <td>1</td>\n",
       "    </tr>\n",
       "  </tbody>\n",
       "</table>\n",
       "<p>4 rows × 38 columns</p>\n",
       "</div>"
      ],
      "text/plain": [
       "       12 Strong  A Fantastic Woman (Una Mujer Fantástica)  \\\n",
       "count          6                                         3   \n",
       "unique         6                                         3   \n",
       "top       Action                                        83   \n",
       "freq           1                                         1   \n",
       "\n",
       "        All The Money In The World  Bilal: A New Breed Of Hero  \\\n",
       "count                            3                           3   \n",
       "unique                           3                           3   \n",
       "top                             71                          91   \n",
       "freq                             1                           1   \n",
       "\n",
       "        Call Me By Your Name  Darkest Hour Den Of Thieves  Ferdinand  \\\n",
       "count                      3             3              6          3   \n",
       "unique                     3             3              6          3   \n",
       "top                       87            84         Action         49   \n",
       "freq                       1             1              1          1   \n",
       "\n",
       "       Fifty Shades Freed  Film Stars Don'T Die In Liverpool  ...  \\\n",
       "count                   6                                  3  ...   \n",
       "unique                  5                                  3  ...   \n",
       "top               unknown                                 69  ...   \n",
       "freq                    2                                  1  ...   \n",
       "\n",
       "        The 15:17 To Paris The Commuter The Disaster Artist  \\\n",
       "count                    6            3                   3   \n",
       "unique                   5            3                   3   \n",
       "top                unknown           48                  89   \n",
       "freq                     2            1                   1   \n",
       "\n",
       "        The Greatest Showman  The Insult (L'Insulte)   The Post  \\\n",
       "count                      6                       3          6   \n",
       "unique                     6                       3          6   \n",
       "top                Biography                      86  Biography   \n",
       "freq                       1                       1          1   \n",
       "\n",
       "        The Shape Of Water Three Billboards Outside Ebbing, Missouri  \\\n",
       "count                    6                                         3   \n",
       "unique                   6                                         3   \n",
       "top              Adventure                                        87   \n",
       "freq                     1                                         1   \n",
       "\n",
       "        Till The End Of The World Winchester  \n",
       "count                           2          6  \n",
       "unique                          2          6  \n",
       "top                            -1  Biography  \n",
       "freq                            1          1  \n",
       "\n",
       "[4 rows x 38 columns]"
      ]
     },
     "execution_count": 60,
     "metadata": {},
     "output_type": "execute_result"
    }
   ],
   "source": [
    "df2.describe()"
   ]
  },
  {
   "cell_type": "code",
   "execution_count": 61,
   "metadata": {},
   "outputs": [
    {
     "data": {
      "text/plain": [
       "12 Strong                                    3\n",
       "A Fantastic Woman (Una Mujer Fantástica)     6\n",
       "All The Money In The World                   6\n",
       "Bilal: A New Breed Of Hero                   6\n",
       "Call Me By Your Name                         6\n",
       "Darkest Hour                                 6\n",
       "Den Of Thieves                               3\n",
       "Ferdinand                                    6\n",
       "Fifty Shades Freed                           3\n",
       "Film Stars Don'T Die In Liverpool            6\n",
       "Forever My Girl                              6\n",
       "Golden Exits                                 3\n",
       "Hostiles                                     3\n",
       "I, Tonya                                     6\n",
       "Insidious: The Last Key                      6\n",
       "Jumanji: Welcome To The Jungle               3\n",
       "Mary And The Witch'S Flower                  6\n",
       "Maze Runner: The Death Cure                  3\n",
       "Molly'S Game                                 6\n",
       "Paddington 2                                 3\n",
       "Padmaavat                                    6\n",
       "Permission                                   3\n",
       "Peter Rabbit                                 3\n",
       "Phantom Thread                               6\n",
       "Pitch Perfect 3                              6\n",
       "Proud Mary                                   6\n",
       "Sanpo Suru Shinryakusha                      3\n",
       "Star Wars: The Last Jedi                     6\n",
       "The 15:17 To Paris                           3\n",
       "The Commuter                                 6\n",
       "The Disaster Artist                          6\n",
       "The Greatest Showman                         3\n",
       "The Insult (L'Insulte)                       6\n",
       "The Post                                     3\n",
       "The Shape Of Water                           3\n",
       "Three Billboards Outside Ebbing, Missouri    6\n",
       "Till The End Of The World                    7\n",
       "Winchester                                   3\n",
       "dtype: int64"
      ]
     },
     "execution_count": 61,
     "metadata": {},
     "output_type": "execute_result"
    }
   ],
   "source": [
    "df2.isna().sum()"
   ]
  },
  {
   "cell_type": "code",
   "execution_count": 62,
   "metadata": {},
   "outputs": [
    {
     "name": "stdout",
     "output_type": "stream",
     "text": [
      "area_type        object\n",
      "availability     object\n",
      "location         object\n",
      "size             object\n",
      "society          object\n",
      "total_sqft       object\n",
      "bath            float64\n",
      "balcony         float64\n",
      "price           float64\n",
      "dtype: object\n"
     ]
    }
   ],
   "source": [
    "import pandas as pd\n",
    "\n",
    "data_types = df1.dtypes\n",
    "print(data_types)"
   ]
  },
  {
   "cell_type": "code",
   "execution_count": 64,
   "metadata": {},
   "outputs": [
    {
     "data": {
      "image/png": "[encoded data removed]",
      "text/plain": [
       "<Figure size 640x480 with 1 Axes>"
      ]
     },
     "metadata": {},
     "output_type": "display_data"
    }
   ],
   "source": [
    "import seaborn as sns\n",
    "import matplotlib.pyplot as plt\n",
    "# Assuming your DataFrame is named df1\n",
    "sns.histplot(x='size', data=df1)\n",
    "plt.show()"
   ]
  },
  {
   "cell_type": "code",
   "execution_count": 70,
   "metadata": {},
   "outputs": [
    {
     "ename": "ValueError",
     "evalue": "Unable to parse string \"PG\" at position 1",
     "output_type": "error",
     "traceback": [
      "\u001b[0;31m---------------------------------------------------------------------------\u001b[0m",
      "\u001b[0;31mValueError\u001b[0m                                Traceback (most recent call last)",
      "File \u001b[0;32mlib.pyx:2391\u001b[0m, in \u001b[0;36mpandas._libs.lib.maybe_convert_numeric\u001b[0;34m()\u001b[0m\n",
      "\u001b[0;31mValueError\u001b[0m: Unable to parse string \"PG\"",
      "\nDuring handling of the above exception, another exception occurred:\n",
      "\u001b[0;31mValueError\u001b[0m                                Traceback (most recent call last)",
      "Cell \u001b[0;32mIn[70], line 7\u001b[0m\n\u001b[1;32m      5\u001b[0m \u001b[38;5;28;01mimport\u001b[39;00m \u001b[38;5;21;01mseaborn\u001b[39;00m \u001b[38;5;28;01mas\u001b[39;00m \u001b[38;5;21;01msns\u001b[39;00m\n\u001b[1;32m      6\u001b[0m \u001b[38;5;28;01mimport\u001b[39;00m \u001b[38;5;21;01mmatplotlib\u001b[39;00m\u001b[38;5;21;01m.\u001b[39;00m\u001b[38;5;21;01mpyplot\u001b[39;00m \u001b[38;5;28;01mas\u001b[39;00m \u001b[38;5;21;01mplt\u001b[39;00m\n\u001b[0;32m----> 7\u001b[0m \u001b[43msns\u001b[49m\u001b[38;5;241;43m.\u001b[39;49m\u001b[43mhistplot\u001b[49m\u001b[43m(\u001b[49m\u001b[43mx\u001b[49m\u001b[38;5;241;43m=\u001b[39;49m\u001b[38;5;124;43m'\u001b[39;49m\u001b[38;5;124;43mFerdinand\u001b[39;49m\u001b[38;5;124;43m'\u001b[39;49m\u001b[43m,\u001b[49m\u001b[43m \u001b[49m\u001b[43mdata\u001b[49m\u001b[38;5;241;43m=\u001b[39;49m\u001b[43mdf2\u001b[49m\u001b[43m,\u001b[49m\u001b[43m \u001b[49m\u001b[43m)\u001b[49m\n\u001b[1;32m      8\u001b[0m plt\u001b[38;5;241m.\u001b[39mshow()\n",
      "File \u001b[0;32m~/Downloads/practicals/ml-dml/ml-dml/.venv/lib/python3.12/site-packages/seaborn/distributions.py:1416\u001b[0m, in \u001b[0;36mhistplot\u001b[0;34m(data, x, y, hue, weights, stat, bins, binwidth, binrange, discrete, cumulative, common_bins, common_norm, multiple, element, fill, shrink, kde, kde_kws, line_kws, thresh, pthresh, pmax, cbar, cbar_ax, cbar_kws, palette, hue_order, hue_norm, color, log_scale, legend, ax, **kwargs)\u001b[0m\n\u001b[1;32m   1405\u001b[0m estimate_kws \u001b[38;5;241m=\u001b[39m \u001b[38;5;28mdict\u001b[39m(\n\u001b[1;32m   1406\u001b[0m     stat\u001b[38;5;241m=\u001b[39mstat,\n\u001b[1;32m   1407\u001b[0m     bins\u001b[38;5;241m=\u001b[39mbins,\n\u001b[0;32m   (...)\u001b[0m\n\u001b[1;32m   1411\u001b[0m     cumulative\u001b[38;5;241m=\u001b[39mcumulative,\n\u001b[1;32m   1412\u001b[0m )\n\u001b[1;32m   1414\u001b[0m \u001b[38;5;28;01mif\u001b[39;00m p\u001b[38;5;241m.\u001b[39munivariate:\n\u001b[0;32m-> 1416\u001b[0m     \u001b[43mp\u001b[49m\u001b[38;5;241;43m.\u001b[39;49m\u001b[43mplot_univariate_histogram\u001b[49m\u001b[43m(\u001b[49m\n\u001b[1;32m   1417\u001b[0m \u001b[43m        \u001b[49m\u001b[43mmultiple\u001b[49m\u001b[38;5;241;43m=\u001b[39;49m\u001b[43mmultiple\u001b[49m\u001b[43m,\u001b[49m\n\u001b[1;32m   1418\u001b[0m \u001b[43m        \u001b[49m\u001b[43melement\u001b[49m\u001b[38;5;241;43m=\u001b[39;49m\u001b[43melement\u001b[49m\u001b[43m,\u001b[49m\n\u001b[1;32m   1419\u001b[0m \u001b[43m        \u001b[49m\u001b[43mfill\u001b[49m\u001b[38;5;241;43m=\u001b[39;49m\u001b[43mfill\u001b[49m\u001b[43m,\u001b[49m\n\u001b[1;32m   1420\u001b[0m \u001b[43m        \u001b[49m\u001b[43mshrink\u001b[49m\u001b[38;5;241;43m=\u001b[39;49m\u001b[43mshrink\u001b[49m\u001b[43m,\u001b[49m\n\u001b[1;32m   1421\u001b[0m \u001b[43m        \u001b[49m\u001b[43mcommon_norm\u001b[49m\u001b[38;5;241;43m=\u001b[39;49m\u001b[43mcommon_norm\u001b[49m\u001b[43m,\u001b[49m\n\u001b[1;32m   1422\u001b[0m \u001b[43m        \u001b[49m\u001b[43mcommon_bins\u001b[49m\u001b[38;5;241;43m=\u001b[39;49m\u001b[43mcommon_bins\u001b[49m\u001b[43m,\u001b[49m\n\u001b[1;32m   1423\u001b[0m \u001b[43m        \u001b[49m\u001b[43mkde\u001b[49m\u001b[38;5;241;43m=\u001b[39;49m\u001b[43mkde\u001b[49m\u001b[43m,\u001b[49m\n\u001b[1;32m   1424\u001b[0m \u001b[43m        \u001b[49m\u001b[43mkde_kws\u001b[49m\u001b[38;5;241;43m=\u001b[39;49m\u001b[43mkde_kws\u001b[49m\u001b[43m,\u001b[49m\n\u001b[1;32m   1425\u001b[0m \u001b[43m        \u001b[49m\u001b[43mcolor\u001b[49m\u001b[38;5;241;43m=\u001b[39;49m\u001b[43mcolor\u001b[49m\u001b[43m,\u001b[49m\n\u001b[1;32m   1426\u001b[0m \u001b[43m        \u001b[49m\u001b[43mlegend\u001b[49m\u001b[38;5;241;43m=\u001b[39;49m\u001b[43mlegend\u001b[49m\u001b[43m,\u001b[49m\n\u001b[1;32m   1427\u001b[0m \u001b[43m        \u001b[49m\u001b[43mestimate_kws\u001b[49m\u001b[38;5;241;43m=\u001b[39;49m\u001b[43mestimate_kws\u001b[49m\u001b[43m,\u001b[49m\n\u001b[1;32m   1428\u001b[0m \u001b[43m        \u001b[49m\u001b[43mline_kws\u001b[49m\u001b[38;5;241;43m=\u001b[39;49m\u001b[43mline_kws\u001b[49m\u001b[43m,\u001b[49m\n\u001b[1;32m   1429\u001b[0m \u001b[43m        \u001b[49m\u001b[38;5;241;43m*\u001b[39;49m\u001b[38;5;241;43m*\u001b[39;49m\u001b[43mkwargs\u001b[49m\u001b[43m,\u001b[49m\n\u001b[1;32m   1430\u001b[0m \u001b[43m    \u001b[49m\u001b[43m)\u001b[49m\n\u001b[1;32m   1432\u001b[0m \u001b[38;5;28;01melse\u001b[39;00m:\n\u001b[1;32m   1434\u001b[0m     p\u001b[38;5;241m.\u001b[39mplot_bivariate_histogram(\n\u001b[1;32m   1435\u001b[0m         common_bins\u001b[38;5;241m=\u001b[39mcommon_bins,\n\u001b[1;32m   1436\u001b[0m         common_norm\u001b[38;5;241m=\u001b[39mcommon_norm,\n\u001b[0;32m   (...)\u001b[0m\n\u001b[1;32m   1446\u001b[0m         \u001b[38;5;241m*\u001b[39m\u001b[38;5;241m*\u001b[39mkwargs,\n\u001b[1;32m   1447\u001b[0m     )\n",
      "File \u001b[0;32m~/Downloads/practicals/ml-dml/ml-dml/.venv/lib/python3.12/site-packages/seaborn/distributions.py:427\u001b[0m, in \u001b[0;36m_DistributionPlotter.plot_univariate_histogram\u001b[0;34m(self, multiple, element, fill, common_norm, common_bins, shrink, kde, kde_kws, color, legend, line_kws, estimate_kws, **plot_kws)\u001b[0m\n\u001b[1;32m    424\u001b[0m histograms \u001b[38;5;241m=\u001b[39m {}\n\u001b[1;32m    426\u001b[0m \u001b[38;5;66;03m# Do pre-compute housekeeping related to multiple groups\u001b[39;00m\n\u001b[0;32m--> 427\u001b[0m all_data \u001b[38;5;241m=\u001b[39m \u001b[38;5;28;43mself\u001b[39;49m\u001b[38;5;241;43m.\u001b[39;49m\u001b[43mcomp_data\u001b[49m\u001b[38;5;241m.\u001b[39mdropna()\n\u001b[1;32m    428\u001b[0m all_weights \u001b[38;5;241m=\u001b[39m all_data\u001b[38;5;241m.\u001b[39mget(\u001b[38;5;124m\"\u001b[39m\u001b[38;5;124mweights\u001b[39m\u001b[38;5;124m\"\u001b[39m, \u001b[38;5;28;01mNone\u001b[39;00m)\n\u001b[1;32m    430\u001b[0m multiple_histograms \u001b[38;5;241m=\u001b[39m \u001b[38;5;28mset\u001b[39m(\u001b[38;5;28mself\u001b[39m\u001b[38;5;241m.\u001b[39mvariables) \u001b[38;5;241m-\u001b[39m {\u001b[38;5;124m\"\u001b[39m\u001b[38;5;124mx\u001b[39m\u001b[38;5;124m\"\u001b[39m, \u001b[38;5;124m\"\u001b[39m\u001b[38;5;124my\u001b[39m\u001b[38;5;124m\"\u001b[39m}\n",
      "File \u001b[0;32m~/Downloads/practicals/ml-dml/ml-dml/.venv/lib/python3.12/site-packages/seaborn/_base.py:1000\u001b[0m, in \u001b[0;36mVectorPlotter.comp_data\u001b[0;34m(self)\u001b[0m\n\u001b[1;32m    995\u001b[0m \u001b[38;5;28;01mif\u001b[39;00m var \u001b[38;5;129;01min\u001b[39;00m \u001b[38;5;28mself\u001b[39m\u001b[38;5;241m.\u001b[39mvar_levels:\n\u001b[1;32m    996\u001b[0m     \u001b[38;5;66;03m# TODO this should happen in some centralized location\u001b[39;00m\n\u001b[1;32m    997\u001b[0m     \u001b[38;5;66;03m# it is similar to GH2419, but more complicated because\u001b[39;00m\n\u001b[1;32m    998\u001b[0m     \u001b[38;5;66;03m# supporting `order` in categorical plots is tricky\u001b[39;00m\n\u001b[1;32m    999\u001b[0m     orig \u001b[38;5;241m=\u001b[39m orig[orig\u001b[38;5;241m.\u001b[39misin(\u001b[38;5;28mself\u001b[39m\u001b[38;5;241m.\u001b[39mvar_levels[var])]\n\u001b[0;32m-> 1000\u001b[0m comp \u001b[38;5;241m=\u001b[39m \u001b[43mpd\u001b[49m\u001b[38;5;241;43m.\u001b[39;49m\u001b[43mto_numeric\u001b[49m\u001b[43m(\u001b[49m\u001b[43mconverter\u001b[49m\u001b[38;5;241;43m.\u001b[39;49m\u001b[43mconvert_units\u001b[49m\u001b[43m(\u001b[49m\u001b[43morig\u001b[49m\u001b[43m)\u001b[49m\u001b[43m)\u001b[49m\u001b[38;5;241m.\u001b[39mastype(\u001b[38;5;28mfloat\u001b[39m)\n\u001b[1;32m   1001\u001b[0m transform \u001b[38;5;241m=\u001b[39m converter\u001b[38;5;241m.\u001b[39mget_transform()\u001b[38;5;241m.\u001b[39mtransform\n\u001b[1;32m   1002\u001b[0m parts\u001b[38;5;241m.\u001b[39mappend(pd\u001b[38;5;241m.\u001b[39mSeries(transform(comp), orig\u001b[38;5;241m.\u001b[39mindex, name\u001b[38;5;241m=\u001b[39morig\u001b[38;5;241m.\u001b[39mname))\n",
      "File \u001b[0;32m~/Downloads/practicals/ml-dml/ml-dml/.venv/lib/python3.12/site-packages/pandas/core/tools/numeric.py:232\u001b[0m, in \u001b[0;36mto_numeric\u001b[0;34m(arg, errors, downcast, dtype_backend)\u001b[0m\n\u001b[1;32m    230\u001b[0m coerce_numeric \u001b[38;5;241m=\u001b[39m errors \u001b[38;5;129;01mnot\u001b[39;00m \u001b[38;5;129;01min\u001b[39;00m (\u001b[38;5;124m\"\u001b[39m\u001b[38;5;124mignore\u001b[39m\u001b[38;5;124m\"\u001b[39m, \u001b[38;5;124m\"\u001b[39m\u001b[38;5;124mraise\u001b[39m\u001b[38;5;124m\"\u001b[39m)\n\u001b[1;32m    231\u001b[0m \u001b[38;5;28;01mtry\u001b[39;00m:\n\u001b[0;32m--> 232\u001b[0m     values, new_mask \u001b[38;5;241m=\u001b[39m \u001b[43mlib\u001b[49m\u001b[38;5;241;43m.\u001b[39;49m\u001b[43mmaybe_convert_numeric\u001b[49m\u001b[43m(\u001b[49m\u001b[43m  \u001b[49m\u001b[38;5;66;43;03m# type: ignore[call-overload]\u001b[39;49;00m\n\u001b[1;32m    233\u001b[0m \u001b[43m        \u001b[49m\u001b[43mvalues\u001b[49m\u001b[43m,\u001b[49m\n\u001b[1;32m    234\u001b[0m \u001b[43m        \u001b[49m\u001b[38;5;28;43mset\u001b[39;49m\u001b[43m(\u001b[49m\u001b[43m)\u001b[49m\u001b[43m,\u001b[49m\n\u001b[1;32m    235\u001b[0m \u001b[43m        \u001b[49m\u001b[43mcoerce_numeric\u001b[49m\u001b[38;5;241;43m=\u001b[39;49m\u001b[43mcoerce_numeric\u001b[49m\u001b[43m,\u001b[49m\n\u001b[1;32m    236\u001b[0m \u001b[43m        \u001b[49m\u001b[43mconvert_to_masked_nullable\u001b[49m\u001b[38;5;241;43m=\u001b[39;49m\u001b[43mdtype_backend\u001b[49m\u001b[43m \u001b[49m\u001b[38;5;129;43;01mis\u001b[39;49;00m\u001b[43m \u001b[49m\u001b[38;5;129;43;01mnot\u001b[39;49;00m\u001b[43m \u001b[49m\u001b[43mlib\u001b[49m\u001b[38;5;241;43m.\u001b[39;49m\u001b[43mno_default\u001b[49m\n\u001b[1;32m    237\u001b[0m \u001b[43m        \u001b[49m\u001b[38;5;129;43;01mor\u001b[39;49;00m\u001b[43m \u001b[49m\u001b[38;5;28;43misinstance\u001b[39;49m\u001b[43m(\u001b[49m\u001b[43mvalues_dtype\u001b[49m\u001b[43m,\u001b[49m\u001b[43m \u001b[49m\u001b[43mStringDtype\u001b[49m\u001b[43m)\u001b[49m\n\u001b[1;32m    238\u001b[0m \u001b[43m        \u001b[49m\u001b[38;5;129;43;01mand\u001b[39;49;00m\u001b[43m \u001b[49m\u001b[38;5;129;43;01mnot\u001b[39;49;00m\u001b[43m \u001b[49m\u001b[43mvalues_dtype\u001b[49m\u001b[38;5;241;43m.\u001b[39;49m\u001b[43mstorage\u001b[49m\u001b[43m \u001b[49m\u001b[38;5;241;43m==\u001b[39;49m\u001b[43m \u001b[49m\u001b[38;5;124;43m\"\u001b[39;49m\u001b[38;5;124;43mpyarrow_numpy\u001b[39;49m\u001b[38;5;124;43m\"\u001b[39;49m\u001b[43m,\u001b[49m\n\u001b[1;32m    239\u001b[0m \u001b[43m    \u001b[49m\u001b[43m)\u001b[49m\n\u001b[1;32m    240\u001b[0m \u001b[38;5;28;01mexcept\u001b[39;00m (\u001b[38;5;167;01mValueError\u001b[39;00m, \u001b[38;5;167;01mTypeError\u001b[39;00m):\n\u001b[1;32m    241\u001b[0m     \u001b[38;5;28;01mif\u001b[39;00m errors \u001b[38;5;241m==\u001b[39m \u001b[38;5;124m\"\u001b[39m\u001b[38;5;124mraise\u001b[39m\u001b[38;5;124m\"\u001b[39m:\n",
      "File \u001b[0;32mlib.pyx:2433\u001b[0m, in \u001b[0;36mpandas._libs.lib.maybe_convert_numeric\u001b[0;34m()\u001b[0m\n",
      "\u001b[0;31mValueError\u001b[0m: Unable to parse string \"PG\" at position 1"
     ]
    },
    {
     "data": {
      "image/png": "[encoded data removed]",
      "text/plain": [
       "<Figure size 640x480 with 1 Axes>"
      ]
     },
     "metadata": {},
     "output_type": "display_data"
    }
   ],
   "source": [
    "#Plotting histogram plot for STATUS column\n",
    "# area_type\tavailability\tlocation\tsize\tsociety\ttotal_sqft\tbath\tbalcony\tprice\n",
    "  \n",
    "#    Strong\tA Fantastic Woman (Una Mujer Fantástica)\tAll The Money In The World\tBilal: A New Breed Of Hero\tCall Me By Your Name\tDarkest Hour\tDen Of Thieves\tFerdinand\tFifty Shades Freed\tFilm Stars Don'T Die In Liverpool\t...\tThe 15:17 To Paris\tThe Commuter\tThe Disaster Artist\tThe Greatest Showman\tThe Insult (L'Insulte)\tThe Post\tThe Shape Of Water\tThree Billboards Outside Ebbing, Missouri\tTill The End Of The World\tWinchester\n",
    "import seaborn as sns\n",
    "import matplotlib.pyplot as plt\n",
    "sns.histplot(x='Ferdinand', data=df2, )\n",
    "plt.show()"
   ]
  },
  {
   "cell_type": "code",
   "execution_count": null,
   "metadata": {},
   "outputs": [],
   "source": [
    "#Plotting histogram plot for MONTH_ID column\n",
    "import seaborn as sns\n",
    "import matplotlib.pyplot as plt\n",
    "sns.histplot(x='MONTH_ID', data=df1, )\n",
    "plt.show()"
   ]
  },
  {
   "cell_type": "code",
   "execution_count": null,
   "metadata": {},
   "outputs": [],
   "source": [
    "#Plotting histogram plot for MONTH_ID column\n",
    "import seaborn as sns\n",
    "import matplotlib.pyplot as plt\n",
    "sns.histplot(x='MONTH_ID', data=df2, )\n",
    "plt.show()"
   ]
  },
  {
   "cell_type": "code",
   "execution_count": null,
   "metadata": {},
   "outputs": [],
   "source": [
    "#Plotting boxplot for STATUS column against MONTH_ID column\n",
    "sns.boxplot( x=\"STATUS\", y= \"MONTH_ID\", data=df1, )\n",
    "plt.show()"
   ]
  },
  {
   "cell_type": "code",
   "execution_count": null,
   "metadata": {},
   "outputs": [],
   "source": [
    "#Plotting boxplot for STATUS column against MONTH_ID column\n",
    "sns.boxplot( x=\"STATUS\", y= \"MONTH_ID\", data=df2, )\n",
    "plt.show()"
   ]
  },
  {
   "cell_type": "code",
   "execution_count": null,
   "metadata": {},
   "outputs": [],
   "source": [
    "#Plotting Scatterplot\n",
    "sns.scatterplot( x=\"STATUS\", y=\"MONTH_ID\", data=df1,\n",
    "hue='COUNTRY', size='YEAR_ID')\n",
    "# Placing Legend outside the Figure\n",
    "\n",
    "plt.legend(bbox_to_anchor=(1, 1), loc=2)\n",
    "plt.show()"
   ]
  },
  {
   "cell_type": "code",
   "execution_count": null,
   "metadata": {},
   "outputs": [],
   "source": [
    "#Plotting Scatterplot\n",
    "sns.scatterplot( x=\"STATUS\", y=\"MONTH_ID\", data=df2,\n",
    "hue='COUNTRY', size='YEAR_ID')\n",
    "# Placing Legend outside the Figure\n",
    "plt.legend(bbox_to_anchor=(1, 1), loc=2)\n",
    "plt.show()"
   ]
  },
  {
   "cell_type": "code",
   "execution_count": null,
   "metadata": {},
   "outputs": [],
   "source": [
    "#Checking the data only for shipped STATUS\n",
    "data1=df1[df1[\"STATUS\"]=='Shipped']\n",
    "data1.head()"
   ]
  },
  {
   "cell_type": "code",
   "execution_count": null,
   "metadata": {},
   "outputs": [],
   "source": [
    "#Checking the data only for shipped STATUS\n",
    "data2=df2[df2[\"STATUS\"]=='Shipped']\n",
    "data2.head()"
   ]
  },
  {
   "cell_type": "code",
   "execution_count": null,
   "metadata": {},
   "outputs": [],
   "source": [
    "data1.shape"
   ]
  },
  {
   "cell_type": "code",
   "execution_count": null,
   "metadata": {},
   "outputs": [],
   "source": [
    "data2.shape"
   ]
  },
  {
   "cell_type": "code",
   "execution_count": null,
   "metadata": {},
   "outputs": [],
   "source": [
    "#Calculating sum for sales column\n",
    "sum_sales = df1['SALES'].sum()\n",
    "print(\"Addition of all sales\",sum_sales)"
   ]
  },
  {
   "cell_type": "code",
   "execution_count": null,
   "metadata": {},
   "outputs": [],
   "source": [
    "#Calculating sum for sales column\n",
    "sum_sales = df2['SALES'].sum()\n",
    "print(\"Addition of all sales\",sum_sales)"
   ]
  },
  {
   "cell_type": "code",
   "execution_count": null,
   "metadata": {},
   "outputs": [],
   "source": [
    "#Calulating average for sales column\n",
    "sales_avg = df1['SALES'].mean()\n",
    "print(\"Average of total sales = \",sales_avg)"
   ]
  },
  {
   "cell_type": "code",
   "execution_count": null,
   "metadata": {},
   "outputs": [],
   "source": [
    "#Calulating average for sales column\n",
    "sales_avg = df2['SALES'].mean()\n",
    "print(\"Average of total sales = \",sales_avg)"
   ]
  },
  {
   "cell_type": "code",
   "execution_count": null,
   "metadata": {},
   "outputs": [],
   "source": [
    "import sklearn\n",
    "import pandas as pd\n",
    "import seaborn as sns\n",
    "# IQR\n",
    "Q1 = np.percentile(df1['SALES'], 25,\n",
    "\n",
    "interpolation = 'midpoint')\n",
    "\n",
    "Q3 = np.percentile(df1['SALES'], 75,\n",
    "\n",
    "interpolation = 'midpoint')\n",
    "\n",
    "IQR = Q3 - Q1\n",
    "print(\"Old Shape: \", df1.shape)\n",
    "# Upper bound\n",
    "upper = np.where(df1['SALES'] >= (Q3+1.5*IQR))\n",
    "# Lower bound\n",
    "lower = np.where(df1['SALES'] <= (Q1-1.5*IQR))\n",
    "# Removing the Outliers\n",
    "df1.drop(upper[0], inplace = True)\n",
    "df1.drop(lower[0], inplace = True)\n",
    "print(\"New Shape: \", df1.shape)\n",
    "sns.boxplot(x='SALES', data=df1)"
   ]
  },
  {
   "cell_type": "code",
   "execution_count": null,
   "metadata": {},
   "outputs": [],
   "source": [
    "import sklearn\n",
    "import pandas as pd\n",
    "import seaborn as sns\n",
    "# IQR\n",
    "Q1 = np.percentile(df2['SALES'], 25,\n",
    "\n",
    "interpolation = 'midpoint')\n",
    "\n",
    "Q3 = np.percentile(df2['SALES'], 75,\n",
    "\n",
    "interpolation = 'midpoint')\n",
    "\n",
    "IQR = Q3 - Q1\n",
    "print(\"Old Shape: \", df2.shape)\n",
    "# Upper bound\n",
    "upper = np.where(df2['SALES'] >= (Q3+1.5*IQR))\n",
    "# Lower bound\n",
    "lower = np.where(df2['SALES'] <= (Q1-1.5*IQR))\n",
    "# Removing the Outliers\n",
    "df2.drop(upper[0], inplace = True)\n",
    "df2.drop(lower[0], inplace = True)\n",
    "print(\"New Shape: \", df2.shape)\n",
    "sns.boxplot(x='SALES', data=df2)"
   ]
  }
 ],
 "metadata": {
  "kernelspec": {
   "display_name": "base",
   "language": "python",
   "name": "python3"
  },
  "language_info": {
   "codemirror_mode": {
    "name": "ipython",
    "version": 3
   },
   "file_extension": ".py",
   "mimetype": "text/x-python",
   "name": "python",
   "nbconvert_exporter": "python",
   "pygments_lexer": "ipython3",
   "version": "3.12.7"
  },
  "orig_nbformat": 4
 },
 "nbformat": 4,
 "nbformat_minor": 2
}
