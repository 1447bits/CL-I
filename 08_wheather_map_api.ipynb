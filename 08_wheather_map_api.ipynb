{
 "cells": [
  {
   "cell_type": "markdown",
   "metadata": {},
   "source": [
    "# Assignment 8\n",
    "Analyzing Weather Data from OpenWeatherMap API"
   ]
  },
  {
   "cell_type": "code",
   "execution_count": 10,
   "metadata": {},
   "outputs": [
    {
     "name": "stdout",
     "output_type": "stream",
     "text": [
      "Requirement already satisfied: requests in /home/atharv/Downloads/practicals/ml-dml/.venv/lib/python3.12/site-packages (2.32.3)\n",
      "Requirement already satisfied: charset-normalizer<4,>=2 in /home/atharv/Downloads/practicals/ml-dml/.venv/lib/python3.12/site-packages (from requests) (3.4.0)\n",
      "Requirement already satisfied: idna<4,>=2.5 in /home/atharv/Downloads/practicals/ml-dml/.venv/lib/python3.12/site-packages (from requests) (3.10)\n",
      "Requirement already satisfied: urllib3<3,>=1.21.1 in /home/atharv/Downloads/practicals/ml-dml/.venv/lib/python3.12/site-packages (from requests) (2.2.3)\n",
      "Requirement already satisfied: certifi>=2017.4.17 in /home/atharv/Downloads/practicals/ml-dml/.venv/lib/python3.12/site-packages (from requests) (2024.8.30)\n",
      "\n",
      "\u001b[1m[\u001b[0m\u001b[34;49mnotice\u001b[0m\u001b[1;39;49m]\u001b[0m\u001b[39;49m A new release of pip is available: \u001b[0m\u001b[31;49m24.2\u001b[0m\u001b[39;49m -> \u001b[0m\u001b[32;49m24.3.1\u001b[0m\n",
      "\u001b[1m[\u001b[0m\u001b[34;49mnotice\u001b[0m\u001b[1;39;49m]\u001b[0m\u001b[39;49m To update, run: \u001b[0m\u001b[32;49mpip install --upgrade pip\u001b[0m\n"
     ]
    }
   ],
   "source": [
    "! pip install requests"
   ]
  },
  {
   "cell_type": "code",
   "execution_count": 11,
   "metadata": {},
   "outputs": [],
   "source": [
    "import requests\n",
    "import pandas as pd\n",
    "import datetime\n",
    "# Set your OpenWeatherMap API key\n",
    "api_key = '2f12c93906e6c3d041fd528d25ea628f'"
   ]
  },
  {
   "cell_type": "code",
   "execution_count": 12,
   "metadata": {},
   "outputs": [
    {
     "data": {
      "text/plain": [
       "{'cod': 401,\n",
       " 'message': 'Invalid API key. Please see https://openweathermap.org/faq#error401 for more info.'}"
      ]
     },
     "execution_count": 12,
     "metadata": {},
     "output_type": "execute_result"
    }
   ],
   "source": [
    "lat = 18.184135\n",
    "lon = 74.610764\n",
    "#https://openweathermap.org/api/one-call-3#how How to use api call\n",
    "# Construct the API URL\n",
    "api_url = f\"http://api.openweathermap.org/data/2.5/forecast?lat={lat}&lon={lon}&appid={api_key}\"\n",
    "# Send a GET request to the API\n",
    "response = requests.get(api_url)\n",
    "weather_data = response.json() #pass response to weather_data object(dictionary)\n",
    "weather_data.keys()\n",
    "\n",
    "dict_keys=(['cod', 'message', 'cnt', 'list', 'city'])\n",
    "\n",
    "weather_data\n"
   ]
  },
  {
   "cell_type": "code",
   "execution_count": 13,
   "metadata": {},
   "outputs": [
    {
     "ename": "KeyError",
     "evalue": "'list'",
     "output_type": "error",
     "traceback": [
      "\u001b[0;31m---------------------------------------------------------------------------\u001b[0m",
      "\u001b[0;31mKeyError\u001b[0m                                  Traceback (most recent call last)",
      "Cell \u001b[0;32mIn[13], line 1\u001b[0m\n\u001b[0;32m----> 1\u001b[0m \u001b[38;5;28mlen\u001b[39m(\u001b[43mweather_data\u001b[49m\u001b[43m[\u001b[49m\u001b[38;5;124;43m'\u001b[39;49m\u001b[38;5;124;43mlist\u001b[39;49m\u001b[38;5;124;43m'\u001b[39;49m\u001b[43m]\u001b[49m)\n",
      "\u001b[0;31mKeyError\u001b[0m: 'list'"
     ]
    }
   ],
   "source": [
    "len(weather_data['list'])"
   ]
  },
  {
   "cell_type": "code",
   "execution_count": 5,
   "metadata": {},
   "outputs": [
    {
     "data": {
      "text/plain": [
       "'scattered clouds'"
      ]
     },
     "execution_count": 5,
     "metadata": {},
     "output_type": "execute_result"
    }
   ],
   "source": [
    "weather_data['list'][0]['weather'][0]['description']"
   ]
  },
  {
   "cell_type": "code",
   "execution_count": 6,
   "metadata": {},
   "outputs": [
    {
     "data": {
      "text/plain": [
       "np.float64(304.66)"
      ]
     },
     "execution_count": 6,
     "metadata": {},
     "output_type": "execute_result"
    }
   ],
   "source": [
    "temperatures = [item['main']['temp'] for item in weather_data['list']]\n",
    "timestamps = [pd.to_datetime(item['dt'], unit='s') for item in weather_data['list']]\n",
    "temperature = [item['main']['temp'] for item in weather_data['list']]\n",
    "humidity = [item['main']['humidity'] for item in weather_data['list']]\n",
    "wind_speed = [item['wind']['speed'] for item in weather_data['list']]\n",
    "weather_description = [item['weather'][0]['description'] for item in weather_data['list']]\n",
    "# Create a pandas DataFrame with the extracted weather data\n",
    "weather_df = pd.DataFrame({\n",
    "'Timestamp': timestamps,\n",
    "'Temperature': temperatures,\n",
    "'humidity': humidity,\n",
    "'wind_speed': wind_speed,\n",
    "'weather_description': weather_description,\n",
    "})\n",
    "# Set the Timestamp column as the DataFrame's index\n",
    "weather_df.set_index('Timestamp', inplace=True)\n",
    "max_temp = weather_df['Temperature'].max()\n",
    "max_temp"
   ]
  },
  {
   "cell_type": "code",
   "execution_count": 7,
   "metadata": {},
   "outputs": [
    {
     "data": {
      "text/plain": [
       "np.float64(292.98)"
      ]
     },
     "execution_count": 7,
     "metadata": {},
     "output_type": "execute_result"
    }
   ],
   "source": [
    "min_temp = weather_df['Temperature'].min()\n",
    "min_temp"
   ]
  },
  {
   "cell_type": "code",
   "execution_count": 8,
   "metadata": {},
   "outputs": [],
   "source": [
    "# Handling missing values\n",
    "weather_df.fillna(0, inplace=True) # Replace missing values with 0 or appropriate value\n",
    "# Handling inconsistent format (if applicable)\n",
    "weather_df['Temperature'] = weather_df['Temperature'].apply(lambda x: x - 273.15 if isinstance(x, float)else x) "
   ]
  },
  {
   "cell_type": "code",
   "execution_count": 9,
   "metadata": {},
   "outputs": [
    {
     "name": "stdout",
     "output_type": "stream",
     "text": [
      "                     Temperature  humidity  wind_speed weather_description\n",
      "Timestamp                                                                 \n",
      "2024-11-04 12:00:00        29.67        35        2.49    scattered clouds\n",
      "2024-11-04 15:00:00        28.44        38        4.00    scattered clouds\n",
      "2024-11-04 18:00:00        25.82        45        2.97       broken clouds\n",
      "2024-11-04 21:00:00        22.63        53        3.37           clear sky\n",
      "2024-11-05 00:00:00        20.86        60        1.23           clear sky\n",
      "2024-11-05 03:00:00        24.56        49        2.60           clear sky\n",
      "2024-11-05 06:00:00        29.44        37        3.73           clear sky\n",
      "2024-11-05 09:00:00        31.38        28        3.81           clear sky\n",
      "2024-11-05 12:00:00        29.64        34        2.03           clear sky\n",
      "2024-11-05 15:00:00        26.01        39        3.03           clear sky\n",
      "2024-11-05 18:00:00        23.74        48        2.95           clear sky\n",
      "2024-11-05 21:00:00        21.97        58        1.92           clear sky\n",
      "2024-11-06 00:00:00        20.95        61        1.67           clear sky\n",
      "2024-11-06 03:00:00        24.72        49        0.76           clear sky\n",
      "2024-11-06 06:00:00        29.16        36        1.60           clear sky\n",
      "2024-11-06 09:00:00        31.51        27        3.04          few clouds\n",
      "2024-11-06 12:00:00        29.89        30        4.51           clear sky\n",
      "2024-11-06 15:00:00        26.10        36        3.90           clear sky\n",
      "2024-11-06 18:00:00        23.43        45        3.74           clear sky\n",
      "2024-11-06 21:00:00        21.74        52        2.51           clear sky\n",
      "2024-11-07 00:00:00        20.14        58        1.70           clear sky\n",
      "2024-11-07 03:00:00        23.89        50        1.30           clear sky\n",
      "2024-11-07 06:00:00        28.80        35        2.83          few clouds\n",
      "2024-11-07 09:00:00        30.82        27        3.08           clear sky\n",
      "2024-11-07 12:00:00        29.26        33        1.80           clear sky\n",
      "2024-11-07 15:00:00        24.91        40        3.56           clear sky\n",
      "2024-11-07 18:00:00        22.91        50        2.90           clear sky\n",
      "2024-11-07 21:00:00        20.82        58        0.84           clear sky\n",
      "2024-11-08 00:00:00        19.83        59        1.55           clear sky\n",
      "2024-11-08 03:00:00        23.46        50        2.84           clear sky\n",
      "2024-11-08 06:00:00        28.25        37        4.04           clear sky\n",
      "2024-11-08 09:00:00        30.08        30        3.07           clear sky\n",
      "2024-11-08 12:00:00        28.55        36        1.91           clear sky\n",
      "2024-11-08 15:00:00        24.85        40        1.73           clear sky\n",
      "2024-11-08 18:00:00        22.88        47        3.56           clear sky\n",
      "2024-11-08 21:00:00        21.44        52        3.07           clear sky\n",
      "2024-11-09 00:00:00        20.09        55        2.45           clear sky\n",
      "2024-11-09 03:00:00        23.58        47        2.76           clear sky\n",
      "2024-11-09 06:00:00        28.68        33        3.58           clear sky\n",
      "2024-11-09 09:00:00        30.58        26        2.68           clear sky\n"
     ]
    }
   ],
   "source": [
    "print(weather_df)"
   ]
  }
 ],
 "metadata": {
  "kernelspec": {
   "display_name": "base",
   "language": "python",
   "name": "python3"
  },
  "language_info": {
   "codemirror_mode": {
    "name": "ipython",
    "version": 3
   },
   "file_extension": ".py",
   "mimetype": "text/x-python",
   "name": "python",
   "nbconvert_exporter": "python",
   "pygments_lexer": "ipython3",
   "version": "3.12.7"
  },
  "orig_nbformat": 4
 },
 "nbformat": 4,
 "nbformat_minor": 2
}
